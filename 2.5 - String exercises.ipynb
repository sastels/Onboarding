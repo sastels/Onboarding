{
 "cells": [
  {
   "cell_type": "markdown",
   "metadata": {},
   "source": [
    "# String exercises"
   ]
  },
  {
   "cell_type": "code",
   "execution_count": null,
   "metadata": {
    "collapsed": true
   },
   "outputs": [],
   "source": [
    "# Provided simple test() function\n",
    "def test(got, expected):\n",
    "    if got == expected:\n",
    "        prefix = ' OK '\n",
    "    else:\n",
    "        prefix = '  X '\n",
    "    print '%s got: %s expected: %s' % (prefix, repr(got), repr(expected))"
   ]
  },
  {
   "cell_type": "markdown",
   "metadata": {},
   "source": [
    "Fill in the code for the functions below. main() is already set up\n",
    "to call the functions with a few different inputs,\n",
    "printing 'OK' when each function is correct.\n",
    "The starter code for each function includes a 'return'\n",
    "which is just a placeholder for your code."
   ]
  },
  {
   "cell_type": "markdown",
   "metadata": {},
   "source": [
    "## A. doughnuts\n",
    "\n",
    "Given an int count of a number of doughnuts, return a string\n",
    "of the form 'Number of doughnuts: <count>', where <count> is the number\n",
    "passed in. However, if the count is 10 or more, then use the word 'many'\n",
    "instead of the actual count.\n",
    "So doughnuts(5) returns 'Number of doughnuts: 5'\n",
    "and doughnuts(23) returns 'Number of doughnuts: many'"
   ]
  },
  {
   "cell_type": "code",
   "execution_count": null,
   "metadata": {
    "collapsed": true
   },
   "outputs": [],
   "source": [
    "def doughnuts(count):\n",
    "    # +++your code here+++\n",
    "    return"
   ]
  },
  {
   "cell_type": "code",
   "execution_count": null,
   "metadata": {
    "collapsed": false
   },
   "outputs": [],
   "source": [
    "test(doughnuts(4), 'Number of doughnuts: 4')\n",
    "test(doughnuts(9), 'Number of doughnuts: 9')\n",
    "test(doughnuts(10), 'Number of doughnuts: many')\n",
    "test(doughnuts(99), 'Number of doughnuts: many')"
   ]
  },
  {
   "cell_type": "markdown",
   "metadata": {},
   "source": [
    "## B. both_ends\n",
    "\n",
    "Given a string s, return a string made of the first 2\n",
    "and the last 2 chars of the original string,\n",
    "so 'spring' yields 'spng'. However, if the string length\n",
    "is less than 2, return instead the empty string."
   ]
  },
  {
   "cell_type": "code",
   "execution_count": null,
   "metadata": {
    "collapsed": true
   },
   "outputs": [],
   "source": [
    "def both_ends(s):\n",
    "    # +++your code here+++\n",
    "    return"
   ]
  },
  {
   "cell_type": "code",
   "execution_count": null,
   "metadata": {
    "collapsed": true
   },
   "outputs": [],
   "source": [
    "test(both_ends('spring'), 'spng')\n",
    "test(both_ends('Hello'), 'Helo')\n",
    "test(both_ends('a'), '')\n",
    "test(both_ends('xyz'), 'xyyz')"
   ]
  },
  {
   "cell_type": "markdown",
   "metadata": {},
   "source": [
    "## C. fix_start\n",
    "\n",
    "Given a string s, return a string\n",
    "where all occurences of its first char have\n",
    "been changed to '\\*', except do not change\n",
    "the first char itself.\n",
    "e.g. 'babble' yields \n",
    "ba\\*\\*le\n",
    "Assume that the string is length 1 or more.\n",
    "Hint: s.replace(stra, strb) returns a version of string s\n",
    "where all instances of stra have been replaced by strb."
   ]
  },
  {
   "cell_type": "code",
   "execution_count": null,
   "metadata": {
    "collapsed": true
   },
   "outputs": [],
   "source": [
    "def fix_start(s):\n",
    "    # +++your code here+++\n",
    "    return"
   ]
  },
  {
   "cell_type": "code",
   "execution_count": null,
   "metadata": {
    "collapsed": true
   },
   "outputs": [],
   "source": [
    "test(fix_start('babble'), 'ba**le')\n",
    "test(fix_start('aardvark'), 'a*rdv*rk')\n",
    "test(fix_start('google'), 'goo*le')\n",
    "test(fix_start('doughnut'), 'doughnut')"
   ]
  },
  {
   "cell_type": "markdown",
   "metadata": {},
   "source": [
    "## D. mix_up\n",
    "Given strings a and b, return a single string with a and b separated\n",
    "by a space ' ', except swap the first 2 chars of each string.\n",
    "Assume a and b are length 2 or more."
   ]
  },
  {
   "cell_type": "code",
   "execution_count": null,
   "metadata": {
    "collapsed": true
   },
   "outputs": [],
   "source": [
    "def mix_up(a, b):\n",
    "    # +++your code here+++\n",
    "    return"
   ]
  },
  {
   "cell_type": "code",
   "execution_count": null,
   "metadata": {
    "collapsed": true
   },
   "outputs": [],
   "source": [
    "test(mix_up('mix', 'pod'), 'pox mid')\n",
    "test(mix_up('dog', 'dinner'), 'dig donner')\n",
    "test(mix_up('gnash', 'sport'), 'spash gnort')\n",
    "test(mix_up('pezzy', 'firm'), 'fizzy perm')"
   ]
  },
  {
   "cell_type": "markdown",
   "metadata": {},
   "source": [
    "## E. verbing\n",
    "Given a string, if its length is at least 3,\n",
    "add 'ing' to its end.\n",
    "Unless it already ends in 'ing', in which case\n",
    "add 'ly' instead.\n",
    "If the string length is less than 3, leave it unchanged.\n",
    "Return the resulting string."
   ]
  },
  {
   "cell_type": "code",
   "execution_count": null,
   "metadata": {
    "collapsed": true
   },
   "outputs": [],
   "source": [
    "def verbing(s):\n",
    "    # +++your code here+++\n",
    "    return"
   ]
  },
  {
   "cell_type": "code",
   "execution_count": null,
   "metadata": {
    "collapsed": true
   },
   "outputs": [],
   "source": [
    "test(verbing('hail'), 'hailing')\n",
    "test(verbing('swimming'), 'swimmingly')\n",
    "test(verbing('do'), 'do')"
   ]
  },
  {
   "cell_type": "markdown",
   "metadata": {},
   "source": [
    "## F. not_bad\n",
    "Given a string, find the first appearance of the\n",
    "substring 'not' and 'bad'. If the 'bad' follows\n",
    "the 'not', replace the whole 'not'...'bad' substring\n",
    "with 'good'.\n",
    "Return the resulting string.\n",
    "So 'This dinner is not that bad!' yields:\n",
    "This dinner is good!"
   ]
  },
  {
   "cell_type": "code",
   "execution_count": null,
   "metadata": {
    "collapsed": true
   },
   "outputs": [],
   "source": [
    "def not_bad(s):\n",
    "    # +++your code here+++\n",
    "    return"
   ]
  },
  {
   "cell_type": "code",
   "execution_count": null,
   "metadata": {
    "collapsed": true
   },
   "outputs": [],
   "source": [
    "test(not_bad('This movie is not so bad'), 'This movie is good')\n",
    "test(not_bad('This dinner is not that bad!'), 'This dinner is good!')\n",
    "test(not_bad('This tea is not hot'), 'This tea is not hot')\n",
    "test(not_bad(\"It's bad yet not\"), \"It's bad yet not\")"
   ]
  },
  {
   "cell_type": "markdown",
   "metadata": {},
   "source": [
    "## G. front_back\n",
    "Consider dividing a string into two halves.\n",
    "If the length is even, the front and back halves are the same length.\n",
    "If the length is odd, we'll say that the extra char goes in the front half.\n",
    "e.g. 'abcde', the front half is 'abc', the back half 'de'.\n",
    "Given 2 strings, a and b, return a string of the form\n",
    "a-front + b-front + a-back + b-back"
   ]
  },
  {
   "cell_type": "code",
   "execution_count": null,
   "metadata": {
    "collapsed": true
   },
   "outputs": [],
   "source": [
    "def front_back(a, b):\n",
    "    # +++your code here+++\n",
    "    return"
   ]
  },
  {
   "cell_type": "code",
   "execution_count": null,
   "metadata": {
    "collapsed": true
   },
   "outputs": [],
   "source": [
    "test(front_back('abcd', 'xy'), 'abxcdy')\n",
    "test(front_back('abcde', 'xyz'), 'abcxydez')\n",
    "test(front_back('Kitten', 'Donut'), 'KitDontenut')"
   ]
  },
  {
   "cell_type": "code",
   "execution_count": null,
   "metadata": {
    "collapsed": true
   },
   "outputs": [],
   "source": []
  },
  {
   "cell_type": "code",
   "execution_count": null,
   "metadata": {
    "collapsed": true
   },
   "outputs": [],
   "source": []
  },
  {
   "cell_type": "code",
   "execution_count": null,
   "metadata": {
    "collapsed": true
   },
   "outputs": [],
   "source": []
  },
  {
   "cell_type": "code",
   "execution_count": null,
   "metadata": {
    "collapsed": true
   },
   "outputs": [],
   "source": []
  },
  {
   "cell_type": "markdown",
   "metadata": {},
   "source": [
    "Note: This notebook is an adaption of Google's python tutorial https://developers.google.com/edu/python"
   ]
  },
  {
   "cell_type": "code",
   "execution_count": null,
   "metadata": {
    "collapsed": true
   },
   "outputs": [],
   "source": []
  }
 ],
 "metadata": {
  "kernelspec": {
   "display_name": "Python 2",
   "language": "python",
   "name": "python2"
  },
  "language_info": {
   "codemirror_mode": {
    "name": "ipython",
    "version": 2
   },
   "file_extension": ".py",
   "mimetype": "text/x-python",
   "name": "python",
   "nbconvert_exporter": "python",
   "pygments_lexer": "ipython2",
   "version": "2.7.10"
  }
 },
 "nbformat": 4,
 "nbformat_minor": 0
}
