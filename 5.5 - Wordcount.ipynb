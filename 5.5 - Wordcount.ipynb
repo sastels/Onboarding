{
 "cells": [
  {
   "cell_type": "markdown",
   "metadata": {},
   "source": [
    "## Wordcount\n",
    "\n",
    "The workcount() function is already defined and complete. It calls print_words()\n",
    "and print_top() functions which you write.\n",
    "\n",
    "1. For the count option, implement a print_words(filename) function that counts\n",
    "how often each word appears in the text and prints:\n",
    "word1 count1\n",
    "word2 count2\n",
    "...\n",
    "\n",
    "Print the above list in order sorted by word (python will sort punctuation to\n",
    "come before letters -- that's fine). Store all the words as lowercase,\n",
    "so 'The' and 'the' count as the same word.\n",
    "\n",
    "2. For the topcount option, implement a print_top(filename) which is similar\n",
    "to print_words() but which prints just the top 20 most common words sorted\n",
    "so the most common word is first, then the next most common, and so on.\n",
    "\n",
    "Use str.split() (no arguments) to split on all whitespace.\n",
    "\n",
    "Workflow: don't build the whole program at once. Get it to an intermediate\n",
    "milestone and print your data structure.\n",
    "When that's working, try for the next milestone.\n",
    "\n",
    "Optional: define a helper function to avoid code duplication inside\n",
    "print_words() and print_top()."
   ]
  },
  {
   "cell_type": "code",
   "execution_count": 3,
   "metadata": {
    "collapsed": true
   },
   "outputs": [],
   "source": [
    "import sys\n",
    "\n",
    "def wordcount(option, filename):\n",
    "    if option == 'count':\n",
    "        print_words(filename)\n",
    "    elif option == 'topcount':\n",
    "        print_top(filename)\n",
    "    else:\n",
    "        print 'unknown option: ' + option"
   ]
  },
  {
   "cell_type": "code",
   "execution_count": null,
   "metadata": {
    "collapsed": true
   },
   "outputs": [],
   "source": [
    "# +++your code here+++\n",
    "# Define print_words(filename) and print_top(filename) functions.\n",
    "# You could write a helper utility function that reads a file\n",
    "# and builds and returns a word/count dict for it.\n",
    "# Then print_words() and print_top() can just call the utility function."
   ]
  },
  {
   "cell_type": "code",
   "execution_count": null,
   "metadata": {
    "collapsed": true
   },
   "outputs": [],
   "source": [
    "wordcount('count', 'data/poem.txt')"
   ]
  },
  {
   "cell_type": "code",
   "execution_count": null,
   "metadata": {
    "collapsed": true
   },
   "outputs": [],
   "source": [
    "wordcount('topcount', 'data/poem.txt')"
   ]
  },
  {
   "cell_type": "code",
   "execution_count": null,
   "metadata": {
    "collapsed": true
   },
   "outputs": [],
   "source": [
    "wordcount('count', 'data/wiki.txt')"
   ]
  },
  {
   "cell_type": "code",
   "execution_count": null,
   "metadata": {
    "collapsed": true
   },
   "outputs": [],
   "source": [
    "wordcount('topcount', 'data/wiki.txt')"
   ]
  },
  {
   "cell_type": "code",
   "execution_count": null,
   "metadata": {
    "collapsed": true
   },
   "outputs": [],
   "source": []
  },
  {
   "cell_type": "code",
   "execution_count": null,
   "metadata": {
    "collapsed": true
   },
   "outputs": [],
   "source": []
  },
  {
   "cell_type": "code",
   "execution_count": null,
   "metadata": {
    "collapsed": true
   },
   "outputs": [],
   "source": []
  },
  {
   "cell_type": "code",
   "execution_count": null,
   "metadata": {
    "collapsed": true
   },
   "outputs": [],
   "source": []
  },
  {
   "cell_type": "markdown",
   "metadata": {},
   "source": [
    "Note: This notebook is an adaption of Google's python tutorial https://developers.google.com/edu/python"
   ]
  },
  {
   "cell_type": "code",
   "execution_count": null,
   "metadata": {
    "collapsed": true
   },
   "outputs": [],
   "source": []
  }
 ],
 "metadata": {
  "kernelspec": {
   "display_name": "Python 2",
   "language": "python",
   "name": "python2"
  },
  "language_info": {
   "codemirror_mode": {
    "name": "ipython",
    "version": 2
   },
   "file_extension": ".py",
   "mimetype": "text/x-python",
   "name": "python",
   "nbconvert_exporter": "python",
   "pygments_lexer": "ipython2",
   "version": "2.7.10"
  }
 },
 "nbformat": 4,
 "nbformat_minor": 0
}
