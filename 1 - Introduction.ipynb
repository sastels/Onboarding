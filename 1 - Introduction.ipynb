{
 "cells": [
  {
   "cell_type": "markdown",
   "metadata": {},
   "source": [
    "## Language Introduction\n",
    "\n",
    "Python is a dynamic, interpreted (bytecode-compiled) language. There are no type declarations of variables, parameters, functions, or methods in source code. This makes the code short and flexible, and you lose the compile-time type checking of the source code. Python tracks the types of all values at runtime and flags code that does not make sense as it runs.\n",
    "\n",
    "An excellent way to see how Python code works is to type it into a notebook."
   ]
  },
  {
   "cell_type": "code",
   "execution_count": null,
   "metadata": {
    "collapsed": false
   },
   "outputs": [],
   "source": [
    "a = 6       ## set a variable in this interpreter session\n",
    "a           ## entering an expression prints its value"
   ]
  },
  {
   "cell_type": "code",
   "execution_count": null,
   "metadata": {
    "collapsed": false
   },
   "outputs": [],
   "source": [
    "a + 2"
   ]
  },
  {
   "cell_type": "code",
   "execution_count": null,
   "metadata": {
    "collapsed": false
   },
   "outputs": [],
   "source": [
    "a = 'hi'    ## 'a' can hold a string just as well\n",
    "a"
   ]
  },
  {
   "cell_type": "code",
   "execution_count": null,
   "metadata": {
    "collapsed": false
   },
   "outputs": [],
   "source": [
    "len(a)      ## call the len() function on a string"
   ]
  },
  {
   "cell_type": "code",
   "execution_count": null,
   "metadata": {
    "collapsed": false
   },
   "outputs": [],
   "source": [
    "a + len(a)  ## try something that doesn't work"
   ]
  },
  {
   "cell_type": "code",
   "execution_count": null,
   "metadata": {
    "collapsed": false
   },
   "outputs": [],
   "source": [
    "a + str(len(a))  ## probably what you really wanted"
   ]
  },
  {
   "cell_type": "code",
   "execution_count": null,
   "metadata": {
    "collapsed": false
   },
   "outputs": [],
   "source": [
    "foo         ## try something else that doesn't work"
   ]
  },
  {
   "cell_type": "markdown",
   "metadata": {},
   "source": [
    "As you can see above, it's easy to experiment with variables and operators. Also, the interpreter throws, or \"raises\" in Python parlance, a runtime error if the code tries to read a variable that has not been assigned a value. Like C++ and Java, Python is case sensitive so \"a\" and \"A\" are different variables. The end of a line marks the end of a statement, so unlike C++ and Java, Python does not require a semicolon at the end of each statement. Comments begin with a '#' and extend to the end of the line."
   ]
  },
  {
   "cell_type": "markdown",
   "metadata": {},
   "source": [
    "## Python source code\n",
    "\n",
    "Python source files use the \".py\" extension and are called \"modules.\" With a Python module hello.py, the easiest way to run it is with the shell command \"python hello.py Alice\" which calls the Python interpreter to execute the code in hello.py, passing it the command line argument \"Alice\". See the official docs page on all the different options you have when running Python from the command-line.\n",
    "\n",
    "Here's a very simple hello.py program (notice that blocks of code are delimited strictly using indentation rather than curly braces — more on this later!):"
   ]
  },
  {
   "cell_type": "markdown",
   "metadata": {
    "raw_mimetype": "text/x-python"
   },
   "source": [
    "```python\n",
    "#!/usr/bin/env python\n",
    "\n",
    "# import modules used here -- sys is a very standard one\n",
    "import sys\n",
    "\n",
    "# Gather our code in a main() function\n",
    "def main():\n",
    "    print 'Hello there', sys.argv[1]\n",
    "    # Command line args are in sys.argv[1], sys.argv[2] ...\n",
    "    # sys.argv[0] is the script name itself and can be ignored\n",
    "\n",
    "# Standard boilerplate to call the main() function to begin\n",
    "# the program.\n",
    "if __name__ == '__main__':\n",
    "    main()\n",
    "````"
   ]
  },
  {
   "cell_type": "markdown",
   "metadata": {},
   "source": [
    "Open a terminal window and paste this code into the file hello.py, then run the program a few times."
   ]
  },
  {
   "cell_type": "raw",
   "metadata": {},
   "source": [
    "$ python hello.py Guido\n",
    "\n",
    "$ ./hello.py Alice  ## without needing 'python' first"
   ]
  },
  {
   "cell_type": "markdown",
   "metadata": {},
   "source": [
    "## Imports, Command-line arguments, and len()\n",
    "\n",
    "The outermost statements in a Python file, or \"module\", do its one-time setup — those statements run from top to bottom the first time the module is imported somewhere, setting up its variables and functions. A Python module can be run directly — as above \"python hello.py Bob\" — or it can be imported and used by some other module. When a Python file is run directly, the special variable `__name__` is set to `__main__`. Therefore, it's common to have the boilerplate\n",
    "`if __name__ ==...`\n",
    "shown above to call a `main()` function when the module is run directly, but not when the module is imported by some other module.\n",
    "\n",
    "In a standard Python program, the list `sys.argv` contains the command-line arguments in the standard way with `sys.argv[0]` being the program itself, `sys.argv[1]` the first argument, and so on. If you know about `argc`, or the number of arguments, you can simply request this value from Python with `len(sys.argv)`, just like we did above when requesting the length of a string. In general, `len()` can tell you how long a string is, the number of elements in lists and tuples (another array-like data structure), and the number of key-value pairs in a dictionary."
   ]
  },
  {
   "cell_type": "markdown",
   "metadata": {},
   "source": [
    "## User-defined Functions\n",
    "\n",
    "Functions in Python are defined like this:"
   ]
  },
  {
   "cell_type": "code",
   "execution_count": null,
   "metadata": {
    "collapsed": true
   },
   "outputs": [],
   "source": [
    "# Defines a \"repeat\" function that takes 2 arguments.\n",
    "def repeat(s, exclaim):\n",
    "    \"\"\"\n",
    "    Returns the string 's' repeated 3 times.\n",
    "    If exclaim is true, add exclamation marks.\n",
    "    \"\"\"\n",
    "\n",
    "    result = s + s + s # can also use \"s * 3\" which is faster (Why?)\n",
    "    if exclaim:\n",
    "        result = result + '!!!'\n",
    "    return result"
   ]
  },
  {
   "cell_type": "markdown",
   "metadata": {},
   "source": [
    "Notice also how the lines that make up the function or if-statement are grouped by all having the same level of indentation. We also presented 2 different ways to repeat strings, using the + operator which is more user-friendly, but * also works because it's Python's \"repeat\" operator, meaning that '-' * 10 gives '----------', a neat way to create an onscreen \"line.\" In the code comment, we hinted that * works faster than +, the reason being that * calculates the size of the resulting object once whereas with +, that calculation is made each time + is called. Both + and * are called \"overloaded\" operators because they mean different things for numbers vs. for strings (and other data types).\n",
    "\n",
    "The `def` keyword defines the function with its parameters within parentheses and its code indented. The first line of a function can be a documentation string (\"docstring\") that describes what the function does. The docstring can be a single line, or a multi-line description as in the example above. (Yes, those are \"triple quotes,\" a feature unique to Python!) Variables defined in the function are local to that function, so the \"result\" in the above function is separate from a \"result\" variable in another function. The return statement can take an argument, in which case that is the value returned to the caller.\n",
    "\n",
    "Here is code that calls the above `repeat()` function, printing what it returns:"
   ]
  },
  {
   "cell_type": "code",
   "execution_count": null,
   "metadata": {
    "collapsed": true
   },
   "outputs": [],
   "source": [
    "def happy(name):\n",
    "    print repeat('  Yay ' + name, False)\n",
    "    print repeat('Woo Hoo', True)"
   ]
  },
  {
   "cell_type": "markdown",
   "metadata": {},
   "source": [
    "At run time, functions must be defined by the execution of a \"def\" before they are called."
   ]
  },
  {
   "cell_type": "code",
   "execution_count": null,
   "metadata": {
    "collapsed": false
   },
   "outputs": [],
   "source": [
    "happy('Tobi')"
   ]
  },
  {
   "cell_type": "markdown",
   "metadata": {},
   "source": [
    "## Indentation\n",
    "\n",
    "One unusual Python feature is that the whitespace indentation of a piece of code affects its meaning. A logical block of statements such as the ones that make up a function should all have the same indentation, set in from the indentation of their parent function or \"if\" or whatever. If one of the lines in a group has a different indentation, it is flagged as a syntax error.\n",
    "\n",
    "Python's use of whitespace feels a little strange at first, but it's logical and I found I got used to it very quickly. Avoid using TABs as they greatly complicate the indentation scheme (not to mention TABs may mean different things on different platforms). Set your editor to insert spaces instead of TABs for Python code.\n",
    "\n",
    "A common question beginners ask is, \"How many spaces should I indent?\" According to the official Python style guide (PEP 8), you should indent with 4 spaces. A good IDE should take care of this for you."
   ]
  },
  {
   "cell_type": "markdown",
   "metadata": {},
   "source": [
    "## Code Checked at Runtime\n",
    "\n",
    "Python does very little checking at compile time, deferring almost all type, name, etc. checks on each line until that line runs. Suppose the above happy() calls repeat() like this:"
   ]
  },
  {
   "cell_type": "code",
   "execution_count": null,
   "metadata": {
    "collapsed": true
   },
   "outputs": [],
   "source": [
    "def happy(name):\n",
    "    if name == 'Tobi':\n",
    "        print repeet('  Yay ' + name, False)\n",
    "    else:\n",
    "        print repeat('Woo Hoo', True)"
   ]
  },
  {
   "cell_type": "markdown",
   "metadata": {},
   "source": [
    "The if-statement contains an obvious error, where the repeat() function is accidentally typed in as repeet(). The funny thing in Python ... this code compiles and runs fine so long as the name at runtime is not 'Tobi'. Only when a run actually tries to execute the repeet() will it notice that there is no such function and raise an error. This just means that when you first run a Python program, some of the first errors you see will be simple typos like this. This is one area where languages with a more verbose type system, like Java, have an advantage ... they can catch such errors at compile time (but of course you have to maintain all that type information ... it's a tradeoff)."
   ]
  },
  {
   "cell_type": "code",
   "execution_count": null,
   "metadata": {
    "collapsed": false
   },
   "outputs": [],
   "source": [
    "happy('Steve')"
   ]
  },
  {
   "cell_type": "code",
   "execution_count": null,
   "metadata": {
    "collapsed": false
   },
   "outputs": [],
   "source": [
    "happy('Tobi')"
   ]
  },
  {
   "cell_type": "markdown",
   "metadata": {},
   "source": [
    "## Variable Names\n",
    "\n",
    "Since Python variables don't have any type spelled out in the source code, it's extra helpful to give meaningful names to your variables to remind yourself of what's going on. So use \"name\" if it's a single name, and \"names\" if it's a list of names, and \"tuples\" if it's a list of tuples. Many basic Python errors result from forgetting what type of value is in each variable, so use your variable names (all you have really) to help keep things straight.\n",
    "\n",
    "As far as actual naming goes, some languages prefer underscored_parts for variable names made up of \"more than one word,\" but other languages prefer camelCasing. In general, Python prefers the underscore method but guides developers to defer to camelCasing if integrating into existing Python code that already uses that style. Readability counts. Read more in the section on naming conventions in PEP 8.\n",
    "\n",
    "As you can guess, keywords like 'print' and 'while' cannot be used as variable names — you'll get a syntax error if you do. However, be careful not to use built-ins as variable names. For example, while 'str' and 'list' may seem like good names, you'd be overriding those system variables. Built-ins are not keywords and thus, are susceptible to inadvertent use by new Python developers."
   ]
  },
  {
   "cell_type": "markdown",
   "metadata": {},
   "source": [
    "## More on Modules and their Namespaces\n",
    "\n",
    "Suppose you've got a module \"binky.py\" which contains a \"def foo()\". The fully qualified name of that foo function is \"binky.foo\". In this way, various Python modules can name their functions and variables whatever they want, and the variable names won't conflict — module1.foo is different from module2.foo. In the Python vocabulary, we'd say that binky, module1, and module2 each have their own \"namespaces,\" which as you can guess are variable name-to-object bindings.\n",
    "\n",
    "For example, we have the standard \"sys\" module that contains some standard system facilities, like the argv list, and exit() function. With the statement \"import sys\" you can can then access the definitions in the sys module and makes them available by their fully-qualified name, e.g. sys.exit(). (Yes, 'sys' has a namespace too!)"
   ]
  },
  {
   "cell_type": "code",
   "execution_count": null,
   "metadata": {
    "collapsed": true
   },
   "outputs": [],
   "source": [
    "import sys"
   ]
  },
  {
   "cell_type": "code",
   "execution_count": null,
   "metadata": {
    "collapsed": false
   },
   "outputs": [],
   "source": [
    "# Now can refer to sys.xxx facilities\n",
    "sys.maxint"
   ]
  },
  {
   "cell_type": "markdown",
   "metadata": {},
   "source": [
    "There is another import form that looks like this: \"from sys import argv, exit\". That makes argv and exit() available by their short names; however, we recommend the original form with the fully-qualified names because it's a lot easier to determine where a function or attribute came from.\n",
    "\n",
    "There are many modules and packages which are bundled with a standard installation of the Python interpreter, so you don't have do anything extra to use them. These are collectively known as the \"Python Standard Library.\" Commonly used modules/packages include:\n",
    "\n",
    "* sys — access to exit(), argv, stdin, stdout, ...\n",
    "* re — regular expressions\n",
    "* os — operating system interface, file system\n",
    "\n",
    "You can find the documentation of all the Standard Library modules and packages at http://docs.python.org/library."
   ]
  },
  {
   "cell_type": "markdown",
   "metadata": {},
   "source": [
    "## help(), and dir()\n",
    "\n",
    "Inside the Python interpreter, the help() function pulls up documentation strings for various modules, functions, and methods. These doc strings are similar to Java's javadoc. The dir() function tells you what the attributes of an object are. Below are some ways to call help() and dir() from the interpreter:"
   ]
  },
  {
   "cell_type": "code",
   "execution_count": null,
   "metadata": {
    "collapsed": false
   },
   "outputs": [],
   "source": [
    "help(len)"
   ]
  },
  {
   "cell_type": "markdown",
   "metadata": {},
   "source": [
    "In Jupyter notebook you can also find help on a function by pressing shift-TAB after a function's first parenthesis."
   ]
  },
  {
   "cell_type": "code",
   "execution_count": null,
   "metadata": {
    "collapsed": true
   },
   "outputs": [],
   "source": [
    "len( <PRESS SHIFT-TAB BEFORE THIS> "
   ]
  },
  {
   "cell_type": "markdown",
   "metadata": {},
   "source": [
    "Pressing shift-TAB twice in succession makes the documentation box bigger (showing more of the docs)."
   ]
  },
  {
   "cell_type": "markdown",
   "metadata": {},
   "source": [
    "Recall our string \"a\"."
   ]
  },
  {
   "cell_type": "code",
   "execution_count": null,
   "metadata": {
    "collapsed": false
   },
   "outputs": [],
   "source": [
    "a"
   ]
  },
  {
   "cell_type": "code",
   "execution_count": null,
   "metadata": {
    "collapsed": false,
    "scrolled": false
   },
   "outputs": [],
   "source": [
    "dir(a)"
   ]
  },
  {
   "cell_type": "markdown",
   "metadata": {},
   "source": [
    "The above output is annoyingly long - click in the margin under the Out[] to make it smaller."
   ]
  },
  {
   "cell_type": "code",
   "execution_count": null,
   "metadata": {
    "collapsed": true
   },
   "outputs": [],
   "source": []
  },
  {
   "cell_type": "code",
   "execution_count": null,
   "metadata": {
    "collapsed": true
   },
   "outputs": [],
   "source": []
  },
  {
   "cell_type": "code",
   "execution_count": null,
   "metadata": {
    "collapsed": true
   },
   "outputs": [],
   "source": []
  },
  {
   "cell_type": "markdown",
   "metadata": {},
   "source": [
    "Note: This notebook is an adaption of Google's python tutorial https://developers.google.com/edu/python/introduction"
   ]
  }
 ],
 "metadata": {
  "kernelspec": {
   "display_name": "Python 2",
   "language": "python",
   "name": "python2"
  },
  "language_info": {
   "codemirror_mode": {
    "name": "ipython",
    "version": 2
   },
   "file_extension": ".py",
   "mimetype": "text/x-python",
   "name": "python",
   "nbconvert_exporter": "python",
   "pygments_lexer": "ipython2",
   "version": "2.7.10"
  }
 },
 "nbformat": 4,
 "nbformat_minor": 0
}
